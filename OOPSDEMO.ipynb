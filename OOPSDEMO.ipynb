{
 "cells": [
  {
   "cell_type": "code",
   "execution_count": null,
   "metadata": {},
   "outputs": [],
   "source": [
    "#Class methods must have an extra first parameter in method definition. We do not give a value for \n",
    "#this parameter when we call the method, Python provides it\n",
    "#If we have a method which takes no arguments, then we still have to have one argument – the self. \n",
    "\n",
    "class Test: \n",
    "    def fun(self): \n",
    "        print(\"Hello\") \n",
    "   \n",
    "obj = Test() \n",
    "obj.fun()"
   ]
  },
  {
   "cell_type": "code",
   "execution_count": null,
   "metadata": {},
   "outputs": [],
   "source": [
    "#The __init__ method is similar to constructors in C++ and Java. It is run as soon as an object of a class is instantiated. \n",
    "#The method is useful to do any initialization you want to do with your object.\n",
    "\n",
    "class Person: \n",
    "  \n",
    "    # init method or constructor  \n",
    "    def __init__(self, name): \n",
    "        self.name = name \n",
    "  \n",
    " \n",
    "    def say_hi(self): \n",
    "        print('Hello, my name is', self.name) \n",
    "  \n",
    "p = Person('RubyMehra') \n",
    "p.say_hi() \n"
   ]
  },
  {
   "cell_type": "code",
   "execution_count": null,
   "metadata": {},
   "outputs": [],
   "source": [
    "#In Python, instance variables are variables whose value is assigned inside a \n",
    "#constructor or method with self.\n",
    "\n",
    "#Class variables are variables whose value is assigned in class.\n",
    "\n",
    "class CSStudent: \n",
    "  \n",
    "    # Class Variable \n",
    "    stream = 'cse'             \n",
    "  \n",
    "    # The init method or constructor \n",
    "    def __init__(self, roll): \n",
    "    \n",
    "        # Instance Variable     \n",
    "        self.roll = roll        \n",
    "   \n",
    "\n",
    "a = CSStudent(101) \n",
    "b = CSStudent(102) \n",
    "   \n",
    "print(a.stream)  # prints \"cse\" \n",
    "print(b.stream)  # prints \"cse\" \n",
    "print(a.roll)    # prints 101 \n",
    "   \n",
    "# Class variables can be accessed using class \n",
    "# name also \n",
    "print(CSStudent.stream) # prints \"cse\"    \n",
    "\n"
   ]
  },
  {
   "cell_type": "code",
   "execution_count": null,
   "metadata": {},
   "outputs": [],
   "source": [
    "# Python program to show that we can create  \n",
    "# instance variables inside methods \n",
    "\n",
    "class CSStudent: \n",
    "      \n",
    "    # Class Variable \n",
    "    stream = 'cse'      \n",
    "      \n",
    "    # The init method or constructor \n",
    "    def __init__(self, roll): \n",
    "          \n",
    "        # Instance Variable \n",
    "        self.roll = roll             \n",
    "  \n",
    "    # Adds an instance variable  \n",
    "    def setAddress(self, address): \n",
    "        self.address = address \n",
    "      \n",
    "    # Retrieves instance variable     \n",
    "    def getAddress(self): \n",
    "        print(self.roll)\n",
    "        return self.address    \n",
    "  \n",
    "a = CSStudent(101) \n",
    "print(a.roll)\n",
    "print(a.stream)\n",
    "a.setAddress(\"Noida, UP\") \n",
    "print(a.getAddress())  "
   ]
  },
  {
   "cell_type": "code",
   "execution_count": null,
   "metadata": {},
   "outputs": [],
   "source": [
    "#In Python, we use double underscore (Or __) before the attributes name and \n",
    "#those attributes will\n",
    "#not be directly visible outside\n",
    "\n",
    "\n",
    "class MyClass: \n",
    "  \n",
    "    # Hidden member of MyClass \n",
    "    __hiddenVariable = 0\n",
    "    \n",
    "    # A member method that changes  \n",
    "    # __hiddenVariable  \n",
    "    def add(self, m): \n",
    "        self.__hiddenVariable += m \n",
    "        print (self.__hiddenVariable) \n",
    "   \n",
    " \n",
    "obj = MyClass()      \n",
    "obj.add(2) \n",
    "obj.add(5) \n",
    "  \n",
    "# This line causes error \n",
    "#print (myObject.__hiddenVariable)\n",
    "#We can access the value of hidden attribute\n",
    "print(obj._MyClass__hiddenVariable)\n",
    "#Nothing in Python is truly private; \n"
   ]
  },
  {
   "cell_type": "code",
   "execution_count": null,
   "metadata": {},
   "outputs": [],
   "source": [
    "#different calling syntax\n",
    "class VAR: \n",
    "                \n",
    "    def add(self,m): \n",
    "        self.__h = m \n",
    "        print (self.__h) \n",
    "    def display(self):\n",
    "        print(self.__h)\n",
    "        \n",
    "obj = VAR()\n",
    "#print(obj._VAR__h)\n",
    "#print(obj.self__h)\n",
    "#print(obj.__h)"
   ]
  },
  {
   "cell_type": "code",
   "execution_count": null,
   "metadata": {},
   "outputs": [],
   "source": [
    "#Printing objects gives us information about objects we are working with. In C++, we can do this by adding a friend\n",
    "#ostream& operator << (ostream&, const Foobar&) method for the class. In Java, we use toString() method. \n",
    "#In python this can be achieved by using __repr__ or __str__ methods\n",
    "\n",
    "class Test: \n",
    "    def __init__(self, a, b): \n",
    "        self.a = a \n",
    "        self.b = b \n",
    "  \n",
    "    def __repr__(self): \n",
    "        return \"Test a:%s     b:%s\" % (self.a, self.b) \n",
    "  \n",
    "    def __str__(self): \n",
    "        return \"From str method of Test: a is %s,     b is %s\" % (self.a, self.b) \n",
    "  \n",
    "       \n",
    "t = Test(1234, 5678) \n",
    "print(t) # This calls __str__() \n",
    "print([t]) # This calls __repr__()\n",
    "\n",
    "\n"
   ]
  },
  {
   "cell_type": "code",
   "execution_count": null,
   "metadata": {},
   "outputs": [],
   "source": [
    "#If no __str__ method is defined, print t (or print str(t)) uses __repr__.\n",
    "\n",
    "class Test: \n",
    "    def __init__(self, a, b): \n",
    "        self.a = a \n",
    "        self.b = b \n",
    "  \n",
    "    def __repr__(self): \n",
    "        return \"Test a:%s b:%s\" % (self.a, self.b) \n",
    "  \n",
    "         \n",
    "t = Test(1234, 5678) \n",
    "print(t)  "
   ]
  },
  {
   "cell_type": "code",
   "execution_count": null,
   "metadata": {},
   "outputs": [],
   "source": [
    "#If no __repr__ method is defined then the default is used.\n",
    "\n",
    "class Test: \n",
    "    def __init__(self, a, b): \n",
    "        self.a = a \n",
    "        self.b = b \n",
    "  \n",
    "   \n",
    "t = Test(1234, 5678) \n",
    "print(t)"
   ]
  },
  {
   "cell_type": "code",
   "execution_count": 1,
   "metadata": {},
   "outputs": [
    {
     "name": "stdout",
     "output_type": "stream",
     "text": [
      "KVCH 1 False\n",
      "KVCH 2 True\n"
     ]
    }
   ],
   "source": [
    "#Inheritance is one of the mechanisms to achieve the same. \n",
    "#In inheritance, a class (usually called superclass) \n",
    "#is inherited by another class (usually called subclass). \n",
    "#The subclass adds some attributes to superclass.\n",
    "\n",
    "class Person(): \n",
    "      \n",
    "    # Constructor \n",
    "    def __init__(self, name): \n",
    "        self.name = name \n",
    "  \n",
    "    # To get name \n",
    "    def getName(self): \n",
    "        return self.name \n",
    "  \n",
    "    # To check if this person is employee \n",
    "    def isEmployee(self): \n",
    "        return False\n",
    "  \n",
    "  \n",
    "# Inherited or Sub class \n",
    "class Employee(Person): \n",
    "  \n",
    "    # Here we return true \n",
    "    def isEmployee(self): \n",
    "        return True\n",
    "    \n",
    "emp = Person(\"KVCH 1\" )  # An Object of Person \n",
    "print(emp.getName(), emp.isEmployee()) \n",
    "  \n",
    "emp = Employee(\"KVCH 2\") # An Object of Employee \n",
    "print(emp.getName(), emp.isEmployee()) "
   ]
  },
  {
   "cell_type": "code",
   "execution_count": 2,
   "metadata": {},
   "outputs": [
    {
     "name": "stdout",
     "output_type": "stream",
     "text": [
      "True\n",
      "False\n",
      "False\n",
      "True\n"
     ]
    }
   ],
   "source": [
    "#Python provides a function issubclass() that directly \n",
    "#tells us if a class is subclass of another class.\n",
    "\n",
    "class Base(): \n",
    "    pass   # Empty Class \n",
    "  \n",
    "class Derived(Base): \n",
    "    pass   # Empty Class \n",
    "  \n",
    "# Driver Code \n",
    "print(issubclass(Derived, Base)) \n",
    "print(issubclass(Base, Derived)) \n",
    "  \n",
    "d = Derived() \n",
    "b = Base() \n",
    "  \n",
    "# b is not an instance of Derived \n",
    "print(isinstance(b, Derived)) \n",
    "  \n",
    "# But d is an instance of Base \n",
    "print(isinstance(d, Base)) \n"
   ]
  },
  {
   "cell_type": "code",
   "execution_count": null,
   "metadata": {},
   "outputs": [],
   "source": [
    "#Like Java Object class, in Python (from version 3.x), object is root of all classes.\n",
    "\n",
    "#In Python 3.x, “class Test(object)” and “class Test” are same.\n",
    "#Python supports multiple inheritance.\n",
    "#We specify all parent classes as comma separated list in bracket."
   ]
  },
  {
   "cell_type": "code",
   "execution_count": 3,
   "metadata": {},
   "outputs": [
    {
     "name": "stdout",
     "output_type": "stream",
     "text": [
      "Base1\n",
      "Base2\n",
      "Derived\n",
      "Hello Program\n"
     ]
    }
   ],
   "source": [
    "class Base1(object): \n",
    "    def __init__(self): \n",
    "        self.str1 = \"Hello\"\n",
    "        print(\"Base1\")\n",
    "class Base2(object): \n",
    "    def __init__(self): \n",
    "        self.str2 = \"Program\"        \n",
    "        print(\"Base2\")                \n",
    "class Derived(Base1, Base2): \n",
    "    def __init__(self):           \n",
    "        # Calling constructors of Base1 \n",
    "        # and Base2 classes \n",
    "        Base1.__init__(self) \n",
    "        Base2.__init__(self) \n",
    "        print(\"Derived\")\n",
    "          \n",
    "    def printStrs(self): \n",
    "        print(self.str1, self.str2)          \n",
    "ob = Derived() \n",
    "ob.printStrs() "
   ]
  },
  {
   "cell_type": "code",
   "execution_count": 5,
   "metadata": {},
   "outputs": [
    {
     "name": "stdout",
     "output_type": "stream",
     "text": [
      "10 90 20 90 20 "
     ]
    }
   ],
   "source": [
    "#How to access parent members in a subclass?\n",
    "class Base(object):   \n",
    "    # Constructor \n",
    "    def __init__(self, x): \n",
    "        self.x = x     \n",
    "class Derived(Base):   \n",
    "    # Constructor \n",
    "    def __init__(self, x, y): \n",
    "        Base.x = x  \n",
    "        self.y = y \n",
    "        self.x = 90\n",
    "        print(Base.x,end=\" \")\n",
    "        print(self.x,end=\" \")\n",
    "        print(self.y,end=\" \")\n",
    "  \n",
    "    def printXY(self):        \n",
    "        print(self.x, self.y,end=\" \") \n",
    "       # print(Base.x, self.y , self.x) \n",
    "\n",
    "d = Derived(10, 20) \n",
    "d.printXY() \n"
   ]
  },
  {
   "cell_type": "code",
   "execution_count": null,
   "metadata": {},
   "outputs": [],
   "source": [
    "#super\n",
    "class Base(object): \n",
    "    # Constructor \n",
    "    def __init__(self, x): \n",
    "        self.x = x     \n",
    "\n",
    "class Derived(Base): \n",
    "    # Constructor \n",
    "    def __init__(self, x, y): \n",
    "          \n",
    "        ''' In Python 3.x, \"super().__init__(name)\" \n",
    "            also works''' \n",
    "        super(Derived, self).__init__(x) \n",
    "        self.y = y \n",
    "        \n",
    "    def printXY(self): \n",
    "  \n",
    "       # Note that Base.x won't work here \n",
    "       # because super() is used in constructor \n",
    "        print(self.x, self.y) \n",
    "\n",
    "d = Derived(10, 20) \n",
    "d.printXY() "
   ]
  },
  {
   "cell_type": "code",
   "execution_count": null,
   "metadata": {},
   "outputs": [],
   "source": [
    "class Person(object): \n",
    "    def __init__(self, name): \n",
    "        self.name = name \n",
    "          \n",
    "    def getName(self): \n",
    "        return self.name \n",
    "      \n",
    "    def isEmployee(self): \n",
    "        return False\n",
    "\n",
    "class Employee(Person): \n",
    "    def __init__(self, name, eid): \n",
    "  \n",
    "        ''' In Python 3.0+, \"super().__init__(name)\" \n",
    "            also works''' \n",
    "        super(Employee, self).__init__(name) \n",
    "        self.empID = eid \n",
    "          \n",
    "    def isEmployee(self): \n",
    "        return True\n",
    "          \n",
    "    def getID(self): \n",
    "        return self.empID \n",
    "\n",
    "emp = Employee(\"KVCH\", \"E101\")  \n",
    "print(emp.getName(), emp.isEmployee(), emp.getID()) \n"
   ]
  },
  {
   "cell_type": "code",
   "execution_count": 8,
   "metadata": {},
   "outputs": [
    {
     "name": "stdout",
     "output_type": "stream",
     "text": [
      "default A\n",
      "B class default\n",
      "default c\n",
      "Printing from c 10\n",
      "Printing from class B 11\n"
     ]
    }
   ],
   "source": [
    "#the super() function has a property that it always refers the \n",
    "#immediate superclass.\n",
    "#Also, super() function is not only referring the __init__() \n",
    "#but it can also call the other functions of the superclass when it needs.\n",
    "\n",
    "class A: \n",
    "    def __init__(self): \n",
    "        print(\"default A\")\n",
    "  \n",
    "    def call(self, b): \n",
    "        print('Printing from class A:', b) \n",
    "        \n",
    "class B(A): \n",
    "    def __init__(self):         \n",
    "        super().__init__() \n",
    "        print('B class default') \n",
    "        \n",
    "  \n",
    "    def call(self, b): \n",
    "        print('Printing from class B',b) \n",
    "        #super(B,self).call(b + 1) \n",
    "        \n",
    "        #self.call( b + 1)\n",
    "        \n",
    "class C(B): \n",
    "    def __init__(self):          \n",
    "        super().__init__() \n",
    "        print('default c')\n",
    "  \n",
    "    def call(self, b): \n",
    "        print('Printing from c', b) \n",
    "        super().call(b + 1) \n",
    "    \n",
    "obj = C() \n",
    "obj.call(10) \n"
   ]
  },
  {
   "cell_type": "code",
   "execution_count": 5,
   "metadata": {},
   "outputs": [
    {
     "name": "stdout",
     "output_type": "stream",
     "text": [
      " In class B\n",
      " In class A\n"
     ]
    }
   ],
   "source": [
    "# In python, method resolution order defines the order in which the base \n",
    "#classes are searched when executing a method. \n",
    "#First, the method or attribute is searched within a class \n",
    "#and then it follows the order we specified while inheriting. \n",
    "#This order is also called Linearization of a class and set of rules are \n",
    "#called MRO(Method Resolution Order).\n",
    "#While inheriting from another class,\n",
    "#the interpreter needs a way to resolve the methods that are\n",
    "#being called via an \n",
    "#.Thus we need the method resolution order.\n",
    "\n",
    "\n",
    "class A: \n",
    "    def rk(self): \n",
    "        print(\" In class A\") \n",
    "class B(A): \n",
    "    def rk(self): \n",
    "        print(\" In class B\") \n",
    "r = B() \n",
    "r.rk() #due to Method Resolution Order(MRO)\n",
    "\n",
    "r=A()\n",
    "r.rk()\n"
   ]
  },
  {
   "cell_type": "code",
   "execution_count": 12,
   "metadata": {},
   "outputs": [
    {
     "name": "stdout",
     "output_type": "stream",
     "text": [
      "In class D\n",
      "\n",
      "[<class '__main__.D'>, <class '__main__.C'>, <class '__main__.B'>, <class '__main__.A'>, <class 'object'>]\n"
     ]
    }
   ],
   "source": [
    "#For the languages that support single inheritance,\n",
    "#method resolution order is not interesting, \n",
    "#but the languages that support multiple inheritance method \n",
    "#resolution order plays a very crucial role.\n",
    "\n",
    "\n",
    "class A: \n",
    "    def rk(self): \n",
    "        print(\" In class A\") \n",
    "class B(A): \n",
    "    def rk(self): \n",
    "        print(\" In class B\") \n",
    "class C(A): \n",
    "    def rk(self): \n",
    "        print(\"In class C\") \n",
    "# classes ordering \n",
    "class D(C,B):  #this is called Diamond inheritance or Deadly Diamond of Death \n",
    "    def rk(self): \n",
    "        print(\"In class D\") \n",
    "    #pass\n",
    "     \n",
    "r = D() \n",
    "r.rk() \n",
    "\n",
    "print()\n",
    "print(D.mro()) \n",
    "\n",
    "\n"
   ]
  },
  {
   "cell_type": "code",
   "execution_count": null,
   "metadata": {},
   "outputs": [],
   "source": [
    "\n",
    "#Python follows a depth-first lookup order and hence ends up calling the method from class A. \n",
    "#By following the method resolution order, the lookup order as follows.\n",
    "#Class D -> Class B -> Class C -> Class A\n",
    "#Python follows depth-first order to resolve the methods and attributes. \n",
    "#So in the above example, it executes the method in class B"
   ]
  },
  {
   "cell_type": "code",
   "execution_count": null,
   "metadata": {},
   "outputs": [],
   "source": [
    "#In python by default, it is not able to provide abstract classes, but python comes up with a module which provides\n",
    "#the base for defining Abstract Base classes(ABC) and that module name is ABC. \n",
    "#ABC works by marking methods of the base class as abstract and then registering concrete classes as implementations \n",
    "#of the abstract base. \n",
    "#A method becomes an abstract by decorated it with a keyword @abstractmethod"
   ]
  },
  {
   "cell_type": "code",
   "execution_count": 15,
   "metadata": {},
   "outputs": [
    {
     "name": "stdout",
     "output_type": "stream",
     "text": [
      "I can walk and run\n",
      "sdgfjhsagdjh\n",
      "I can crawl\n",
      "I can bark\n",
      "I can roar\n"
     ]
    }
   ],
   "source": [
    "from abc import ABC, abstractmethod \n",
    "class Animal(ABC): \n",
    "\n",
    "    @abstractmethod\n",
    "    def move(self): \n",
    "        print(\"abstract\")\n",
    "        pass\n",
    "    \n",
    "    def printdata(self):\n",
    "        print(\"sdgfjhsagdjh\")\n",
    "        \n",
    "class Human(Animal): \n",
    "  \n",
    "    def move(self): \n",
    "        print(\"I can walk and run\") \n",
    "        self.printdata()\n",
    "        \n",
    "        \n",
    "class Snake(Animal): \n",
    "  \n",
    "    def move(self): \n",
    "        print(\"I can crawl\") \n",
    "        \n",
    "        \n",
    "class Dog(Animal): \n",
    "  \n",
    "    def move(self): \n",
    "        print(\"I can bark\") \n",
    "        \n",
    "        \n",
    "        \n",
    "class Lion(Animal): \n",
    "  \n",
    "    def move(self): \n",
    "        print(\"I can roar\") \n",
    "        \n",
    "R = Human() \n",
    "R.move() \n",
    "  \n",
    "K = Snake() \n",
    "K.move() \n",
    "  \n",
    "R = Dog() \n",
    "R.move() \n",
    "  \n",
    "K = Lion() \n",
    "K.move() \n",
    "\n",
    "#A=Animal()\n",
    "#A.move()"
   ]
  },
  {
   "cell_type": "code",
   "execution_count": null,
   "metadata": {},
   "outputs": [],
   "source": [
    "import abc \n",
    "from abc import ABC, abstractmethod \n",
    "  \n",
    "class R(ABC): \n",
    "    def rk(self):   #concreatemethod\n",
    "        print(\"Abstract Base Class\") \n",
    "class K(R): \n",
    "    def rk(self): \n",
    "        super().rk() \n",
    "        print(\"subclass \") \n",
    "r = K() \n",
    "r.rk() "
   ]
  },
  {
   "cell_type": "code",
   "execution_count": null,
   "metadata": {},
   "outputs": [],
   "source": []
  }
 ],
 "metadata": {
  "kernelspec": {
   "display_name": "Python 3",
   "language": "python",
   "name": "python3"
  },
  "language_info": {
   "codemirror_mode": {
    "name": "ipython",
    "version": 3
   },
   "file_extension": ".py",
   "mimetype": "text/x-python",
   "name": "python",
   "nbconvert_exporter": "python",
   "pygments_lexer": "ipython3",
   "version": "3.7.3"
  }
 },
 "nbformat": 4,
 "nbformat_minor": 2
}
