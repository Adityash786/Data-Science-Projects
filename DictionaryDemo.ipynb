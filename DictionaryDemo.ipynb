{
 "cells": [
  {
   "cell_type": "code",
   "execution_count": 1,
   "metadata": {},
   "outputs": [
    {
     "name": "stdout",
     "output_type": "stream",
     "text": [
      "<class 'dict'>\n",
      "<class 'dict'>\n"
     ]
    }
   ],
   "source": [
    "D={}\n",
    "D1=dict()\n",
    "print(type(D))\n",
    "print(type(D1))\n"
   ]
  },
  {
   "cell_type": "code",
   "execution_count": 12,
   "metadata": {},
   "outputs": [
    {
     "name": "stdout",
     "output_type": "stream",
     "text": [
      "dict_keys(['1', '2', '3', '4'])\n",
      "dict_keys(['a', 'e', 'i', 'o', 'u'])\n",
      "dict_keys([1, 2, 3, 4])\n",
      "dict_values([23, 56, 900, 78])\n",
      "dict_values([23, 56, 900, 78, 68])\n",
      "dict_values([203, 560, 900, 780])\n",
      "a e i o u 23 56 900 78 68 \n",
      "dict_keys(['a', 'e', 'i', 'o', 'u']) dict_values([23, 56, 900, 78, 68])\n"
     ]
    }
   ],
   "source": [
    "D={'1':23,'2':56,'3':900,'4':78}\n",
    "D1={'a':23,'e':56,'i':900,'o':78,'u':68}\n",
    "D2={1:203,2:560,3:900,4:780}\n",
    "print(D.keys())\n",
    "print(D1.keys())\n",
    "print(D2.keys())\n",
    "print(D.values())\n",
    "print(D1.values())\n",
    "print(D2.values())\n",
    "\n",
    "for i in D1.keys():\n",
    "    print(i,end=\" \")\n",
    "\n",
    "for i in D1.values():\n",
    "    print(i,end=\" \")  \n",
    "    \n",
    "#print(D1.keys(),D1.values())\n",
    "#list(zip(D1.keys(),D1.values()))\n",
    "#tuple(zip(D1.keys(),D1.values()))\n",
    "\n"
   ]
  },
  {
   "cell_type": "code",
   "execution_count": 44,
   "metadata": {},
   "outputs": [
    {
     "name": "stdout",
     "output_type": "stream",
     "text": [
      "56\n",
      "a 23\n",
      "e 56\n",
      "i 900\n",
      "o 78\n",
      "u 68\n",
      "{90: 'hello'}\n"
     ]
    }
   ],
   "source": [
    "D1={'a':23,'e':56,'i':900,'o':78,'u':68}\n",
    "print(D1['e'])\n",
    "\n",
    "for i,j in D1.items():\n",
    "    print(i,j)\n",
    "    \n",
    "t=(1,2,3,4)\n",
    "v=90\n",
    "v1=[1,2,3,4]\n",
    "\n",
    "#print(D.fromkeys(t))\n",
    "#print(D.fromkeys(t,v))\n",
    "#print(D.fromkeys(t,v1))\n",
    "\n",
    "\n",
    "\n",
    "#del D\n",
    "D={}\n",
    "D.setdefault(90,\"hello\")\n",
    "print(D)\n",
    "\n",
    "#t=('a','e')\n",
    "#D.setdefault(t)\n",
    "#print(D)\n",
    "\n",
    "\n"
   ]
  },
  {
   "cell_type": "code",
   "execution_count": 48,
   "metadata": {},
   "outputs": [
    {
     "name": "stdout",
     "output_type": "stream",
     "text": [
      "(('a', 23), ('e', 56), ('i', 900), ('o', 78), ('u', 68))\n",
      "('a', 23)\n",
      "('e', 56)\n",
      "('i', 900)\n",
      "('o', 78)\n",
      "('u', 68)\n",
      "{'a': 23, 'e': 56, 'i': 900, 'o': 78, 'u': 68}\n"
     ]
    }
   ],
   "source": [
    "D1={'a':23,'e':56,'i':900,'o':78,'u':68}\n",
    "\n",
    "a=tuple(zip(D1.keys(),D1.values()))\n",
    "print(a)\n",
    "\n",
    "\n",
    "P={}\n",
    "for i in a:\n",
    "    print(i)\n",
    "    P.setdefault(i[0],i[1])\n",
    "\n",
    "\n",
    "print(P)\n",
    "    \n",
    "\n"
   ]
  },
  {
   "cell_type": "code",
   "execution_count": 55,
   "metadata": {},
   "outputs": [
    {
     "name": "stdout",
     "output_type": "stream",
     "text": [
      "Canada\n",
      "USA\n",
      "UK\n",
      "India\n"
     ]
    }
   ],
   "source": [
    "p=({\"name\":\"Canada\",\"population\":\"40Lac\"},\n",
    "   {\"name\":\"USA\",\"population\":\"50Lac\"},\n",
    "   {\"name\":\"UK\",\"population\":\"30Lac\"},\n",
    "   {\"name\":\"India\",\"population\":\"70Lac\"})\n",
    "\n",
    "for i in p:\n",
    "    print(tuple(i.values())[0])\n",
    "    \n"
   ]
  },
  {
   "cell_type": "code",
   "execution_count": 10,
   "metadata": {},
   "outputs": [
    {
     "name": "stdout",
     "output_type": "stream",
     "text": [
      "{'a': 'xx'}\n",
      "{'a': 'xx', 'e': 'xx', 'i': 'xx', 'o': 'xx', 'u': 'xx'}\n",
      "{'a': ['xx', 'pp'], 'e': ['xx', 'pp'], 'i': ['xx', 'pp'], 'o': ['xx', 'pp'], 'u': ['xx', 'pp']}\n",
      "{'a': None, 'e': None, 'i': None, 'o': None, 'u': None}\n"
     ]
    }
   ],
   "source": [
    "D={}\n",
    "M=D.fromkeys('a','xx')\n",
    "print(M)\n",
    "\n",
    "M=D.fromkeys(('a','e','i','o','u'),\"xx\")\n",
    "print(M)\n",
    "\n",
    "M=D.fromkeys(('a','e','i','o','u'),['xx','pp'])\n",
    "print(M)\n",
    "\n",
    "M=D.fromkeys(['a','e','i','o','u'])\n",
    "print(M)\n",
    "\n"
   ]
  },
  {
   "cell_type": "code",
   "execution_count": 21,
   "metadata": {},
   "outputs": [
    {
     "name": "stdout",
     "output_type": "stream",
     "text": [
      "{'e': 'xx', 'i': 'xx', 'o': 'xx', 'u': 'xx'}\n",
      "{'e': 'xx', 'i': 'xx', 'o': 'xx'}\n",
      "{'e': 'xx', 'i': 'xx', 'o': 'xx', 'a': 'zz'}\n"
     ]
    }
   ],
   "source": [
    "M={'a': 'xx', 'e': 'xx', 'i': 'xx', 'o': 'xx', 'u': 'xx'}\n",
    "M.pop('a')\n",
    "print(M)\n",
    "\n",
    "M.popitem()\n",
    "print(M)\n",
    "M.update({'a':'zz'})\n",
    "print(M)\n",
    "#M.update((1,2,3,4))   error"
   ]
  },
  {
   "cell_type": "code",
   "execution_count": null,
   "metadata": {},
   "outputs": [],
   "source": []
  },
  {
   "cell_type": "code",
   "execution_count": 32,
   "metadata": {},
   "outputs": [
    {
     "name": "stdout",
     "output_type": "stream",
     "text": [
      "{'a': 23, 'e': 56, 'i': 900, 'o': 78, 'u': 68, 1: 2}\n"
     ]
    }
   ],
   "source": [
    "D1={'a':23,'e':56,'i':900,'o':78,'u':68}\n",
    "L=[1,2,3,4]\n",
    "\n",
    "L1=20\n",
    "\n",
    "\n",
    "\n",
    "#D1.setdefault(L1,\"Program\")\n",
    "#print(D1)\n",
    "\n",
    "D1.setdefault(L[0],L[1])\n",
    "print(D1)\n"
   ]
  },
  {
   "cell_type": "code",
   "execution_count": 39,
   "metadata": {},
   "outputs": [
    {
     "name": "stdout",
     "output_type": "stream",
     "text": [
      "('Canada', '40Lac')\n",
      "('USA', '50Lac')\n",
      "('UK', '30Lac')\n",
      "('India', '70Lac')\n",
      "{'a': 1, 'e': 2, 'i': 3, 'o': 4, 'u': 5}\n",
      "(('a', 23), ('e', 56), ('i', 900), ('o', 78), ('u', 68))\n",
      "[('a', 23), ('e', 56), ('i', 900), ('o', 78), ('u', 68)]\n"
     ]
    }
   ],
   "source": [
    "p=({\"name\":\"Canada\",\"population\":\"40Lac\"},\n",
    "   {\"name\":\"USA\",\"population\":\"50Lac\"},\n",
    "   {\"name\":\"UK\",\"population\":\"30Lac\"},\n",
    "   {\"name\":\"India\",\"population\":\"70Lac\"})\n",
    "\n",
    "\n",
    "for i in p:    \n",
    "    q=tuple(i.values())    \n",
    "    print(q)\n",
    "    \n",
    "    \n",
    "T1=('a','e','i','o','u')\n",
    "T2=(1,2,3,4,5)\n",
    "\n",
    "\n",
    "D=dict()\n",
    "\n",
    "for i in range(0,5):\n",
    "    D.setdefault(T1[i],T2[i])\n",
    "\n",
    "print(D)\n",
    "\n",
    "\n",
    "D1={'a':23,'e':56,'i':900,'o':78,'u':68}\n",
    "\n",
    "M=tuple(zip(D1.keys(),D1.values()))\n",
    "print(M)\n",
    "\n",
    "M=list(zip(D1.keys(),D1.values()))\n",
    "print(M)\n",
    "\n"
   ]
  },
  {
   "cell_type": "code",
   "execution_count": null,
   "metadata": {},
   "outputs": [],
   "source": []
  }
 ],
 "metadata": {
  "kernelspec": {
   "display_name": "Python 3",
   "language": "python",
   "name": "python3"
  },
  "language_info": {
   "codemirror_mode": {
    "name": "ipython",
    "version": 3
   },
   "file_extension": ".py",
   "mimetype": "text/x-python",
   "name": "python",
   "nbconvert_exporter": "python",
   "pygments_lexer": "ipython3",
   "version": "3.7.3"
  }
 },
 "nbformat": 4,
 "nbformat_minor": 2
}
