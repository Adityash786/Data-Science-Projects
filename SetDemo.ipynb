{
 "cells": [
  {
   "cell_type": "code",
   "execution_count": 10,
   "metadata": {},
   "outputs": [
    {
     "ename": "TypeError",
     "evalue": "unhashable type: 'set'",
     "output_type": "error",
     "traceback": [
      "\u001b[1;31m---------------------------------------------------------------------------\u001b[0m",
      "\u001b[1;31mTypeError\u001b[0m                                 Traceback (most recent call last)",
      "\u001b[1;32m<ipython-input-10-376b5060c25d>\u001b[0m in \u001b[0;36m<module>\u001b[1;34m\u001b[0m\n\u001b[0;32m      2\u001b[0m \u001b[1;31m#s[0]=90\u001b[0m\u001b[1;33m\u001b[0m\u001b[1;33m\u001b[0m\u001b[1;33m\u001b[0m\u001b[0m\n\u001b[0;32m      3\u001b[0m \u001b[1;33m\u001b[0m\u001b[0m\n\u001b[1;32m----> 4\u001b[1;33m \u001b[0ms\u001b[0m\u001b[1;33m=\u001b[0m\u001b[1;33m{\u001b[0m\u001b[1;36m1\u001b[0m\u001b[1;33m,\u001b[0m\u001b[1;36m2\u001b[0m\u001b[1;33m,\u001b[0m\u001b[1;33m{\u001b[0m\u001b[1;36m3\u001b[0m\u001b[1;33m,\u001b[0m\u001b[1;36m4\u001b[0m\u001b[1;33m}\u001b[0m\u001b[1;33m,\u001b[0m\u001b[1;36m8\u001b[0m\u001b[1;33m,\u001b[0m\u001b[1;36m9\u001b[0m\u001b[1;33m}\u001b[0m\u001b[1;33m\u001b[0m\u001b[1;33m\u001b[0m\u001b[0m\n\u001b[0m\u001b[0;32m      5\u001b[0m \u001b[1;33m\u001b[0m\u001b[0m\n\u001b[0;32m      6\u001b[0m \u001b[1;33m\u001b[0m\u001b[0m\n",
      "\u001b[1;31mTypeError\u001b[0m: unhashable type: 'set'"
     ]
    }
   ],
   "source": [
    "s={1,2,3,6,\"hello\",5.8,6,(60,70,80),5.8,3}\n",
    "#s[0]=90\n",
    "\n",
    "s={1,2,{3,4},8,9}\n",
    "\n",
    "print(s)"
   ]
  },
  {
   "cell_type": "code",
   "execution_count": 3,
   "metadata": {},
   "outputs": [
    {
     "name": "stdout",
     "output_type": "stream",
     "text": [
      "<class 'dict'>\n",
      "<class 'set'>\n",
      "<class 'set'>\n",
      "{1, 2, 3, 5.8, 6, 'hello', (60, 70, 80)}\n",
      "{1, 2, 3, 4, 5}\n",
      "{(3, 4, 5), (5, 6, 7), (1, 2, 3, 4)}\n",
      "(3, 4, 5)\n",
      "(5, 6, 7)\n",
      "(1, 2, 3, 4)\n"
     ]
    }
   ],
   "source": [
    "s={}\n",
    "print(type(s))\n",
    "\n",
    "s=set()\n",
    "print(type(s))\n",
    "\n",
    "s={1,2,3,4,5,6}\n",
    "print(type(s))\n",
    "\n",
    "s={tuple([1,2,3,4]),(3,4,5),(5,6,7)}\n",
    "L=[1,2,3,4,5]\n",
    "G=set(L)\n",
    "print(G)\n",
    "print(s)\n",
    "\n",
    "for i in s:\n",
    "    print(i)\n",
    "    \n",
    "   "
   ]
  },
  {
   "cell_type": "code",
   "execution_count": 2,
   "metadata": {},
   "outputs": [],
   "source": [
    "s={(1,2),tuple([3,4])}\n"
   ]
  },
  {
   "cell_type": "code",
   "execution_count": 1,
   "metadata": {},
   "outputs": [],
   "source": [
    "#s={[2,3,4,5]}\n",
    "s={tuple([1,2,3,4]),(3,4,5),(5,6,7)}\n",
    "#print(s[0])\n",
    "#s[0]=(900)\n",
    "\n"
   ]
  },
  {
   "cell_type": "code",
   "execution_count": 8,
   "metadata": {},
   "outputs": [
    {
     "ename": "TypeError",
     "evalue": "unsupported operand type(s) for +: 'set' and 'set'",
     "output_type": "error",
     "traceback": [
      "\u001b[1;31m---------------------------------------------------------------------------\u001b[0m",
      "\u001b[1;31mTypeError\u001b[0m                                 Traceback (most recent call last)",
      "\u001b[1;32m<ipython-input-8-cf92c8406723>\u001b[0m in \u001b[0;36m<module>\u001b[1;34m\u001b[0m\n\u001b[0;32m     26\u001b[0m \u001b[0ms\u001b[0m\u001b[1;33m=\u001b[0m\u001b[0mset\u001b[0m\u001b[1;33m(\u001b[0m\u001b[1;33m[\u001b[0m\u001b[1;36m1\u001b[0m\u001b[1;33m,\u001b[0m\u001b[1;36m2\u001b[0m\u001b[1;33m,\u001b[0m\u001b[1;36m3\u001b[0m\u001b[1;33m,\u001b[0m\u001b[1;34m\"hello\"\u001b[0m\u001b[1;33m,\u001b[0m\u001b[1;36m5.8\u001b[0m\u001b[1;33m,\u001b[0m\u001b[1;36m6\u001b[0m\u001b[1;33m]\u001b[0m\u001b[1;33m)\u001b[0m\u001b[1;33m\u001b[0m\u001b[1;33m\u001b[0m\u001b[0m\n\u001b[0;32m     27\u001b[0m \u001b[0ms1\u001b[0m\u001b[1;33m=\u001b[0m\u001b[0mset\u001b[0m\u001b[1;33m(\u001b[0m\u001b[1;33m[\u001b[0m\u001b[1;36m600\u001b[0m\u001b[1;33m,\u001b[0m\u001b[1;36m500\u001b[0m\u001b[1;33m]\u001b[0m\u001b[1;33m)\u001b[0m\u001b[1;33m\u001b[0m\u001b[1;33m\u001b[0m\u001b[0m\n\u001b[1;32m---> 28\u001b[1;33m \u001b[0ms\u001b[0m\u001b[1;33m=\u001b[0m\u001b[0ms1\u001b[0m\u001b[1;33m+\u001b[0m\u001b[0ms\u001b[0m\u001b[1;33m\u001b[0m\u001b[1;33m\u001b[0m\u001b[0m\n\u001b[0m\u001b[0;32m     29\u001b[0m \u001b[0mprint\u001b[0m\u001b[1;33m(\u001b[0m\u001b[0ms\u001b[0m\u001b[1;33m)\u001b[0m\u001b[1;33m\u001b[0m\u001b[1;33m\u001b[0m\u001b[0m\n",
      "\u001b[1;31mTypeError\u001b[0m: unsupported operand type(s) for +: 'set' and 'set'"
     ]
    }
   ],
   "source": [
    "#s=set([1,2,3,\"hello\",5.8,6,5,6,2,3])\n",
    "#print(s)\n",
    "#print(type(s))\n",
    "\n",
    "\n",
    "#s.add(2000)\n",
    "#print(s)\n",
    "\n",
    "#s.update([30,40,50])\n",
    "#print(s)\n",
    "\n",
    "\n",
    "#s.update([30,40,50],{90,80,70})\n",
    "#print(s)\n",
    "\n",
    "#s.clear()\n",
    "#print(s)\n",
    "\n",
    "#q=(1,2,3)\n",
    "#w=(2,3,4)\n",
    "#print(q+w)\n",
    "\n",
    "#print(q*2)\n",
    "#print(\"program\"*4)\n",
    "\n",
    "#s=set([1,2,3,\"hello\",5.8,6])\n",
    "#s1=set([600,500])\n",
    "#s=s1+s\n",
    "#print(s)"
   ]
  },
  {
   "cell_type": "code",
   "execution_count": 12,
   "metadata": {},
   "outputs": [
    {
     "name": "stdout",
     "output_type": "stream",
     "text": [
      "{1, 2, 3, 5.8, 6, 70, 40, 2000, 80, 50, 'hello', 30}\n",
      "{1, 2, 3, 5.8, 6, 70, 40, 2000, 80, 50, 30}\n",
      "{1, 2, 3, 5.8, 6, 70, 40, 2000, 80, 50, 30}\n",
      "1\n",
      "2\n"
     ]
    }
   ],
   "source": [
    "s={1, 2, 3, 6, 'hello', 40, 70, 5.8, 2000, 80, 50, 90, 30}\n",
    "s.remove(90)\n",
    "print(s)\n",
    "\n",
    "s.discard(\"hello\")\n",
    "print(s)\n",
    "\n",
    "#if element is not present \n",
    "s.discard(900) # not show error\n",
    "print(s)\n",
    "\n",
    "#s.remove(900)  # shows exception\n",
    "#print(s)\n",
    "\n",
    "print(s.pop())\n",
    "print(s.pop())\n",
    "\n"
   ]
  },
  {
   "cell_type": "code",
   "execution_count": 17,
   "metadata": {},
   "outputs": [
    {
     "name": "stdout",
     "output_type": "stream",
     "text": [
      "{1, 2, 3, 4, 5, 6, 7, 8, 'program', 'hello'}\n",
      "{1, 2, 3, 4, 5, 6, 7, 8, 'program', 'hello'}\n"
     ]
    }
   ],
   "source": [
    "#union()   | operator\n",
    "a={1,2,3,4}\n",
    "b={5,6,7,8,\"hello\"}\n",
    "c={3,4,8,\"program\",\"hello\"}\n",
    "\n",
    "\n",
    "q=a|b|c\n",
    "d=set(b.union(c)).union(a)\n",
    "\n",
    "print(q)\n",
    "print(d)\n",
    "\n"
   ]
  },
  {
   "cell_type": "code",
   "execution_count": 22,
   "metadata": {},
   "outputs": [
    {
     "name": "stdout",
     "output_type": "stream",
     "text": [
      "{'hello', 5}\n",
      "{'hello', 5}\n",
      "{4, 5}\n"
     ]
    }
   ],
   "source": [
    "#intersection  & operator\n",
    "a={1,2,5,4,\"hello\"}\n",
    "b={5,6,7,8,\"hello\"}\n",
    "\n",
    "c=a&b\n",
    "d=a.intersection(b)\n",
    "\n",
    "print(c)\n",
    "print(d)\n",
    "\n",
    "a={3,4,5,6}\n",
    "b={4,5,8,7}\n",
    "\n",
    "b.intersection_update(a)\n",
    "print(b)\n",
    "\n",
    "\n"
   ]
  },
  {
   "cell_type": "code",
   "execution_count": 23,
   "metadata": {},
   "outputs": [
    {
     "name": "stdout",
     "output_type": "stream",
     "text": [
      "{1, 2, 4}\n",
      "{1, 2, 4}\n",
      "{8, 6, 7}\n",
      "{8, 6, 7}\n",
      "{7, 8}\n"
     ]
    }
   ],
   "source": [
    "#difference()   - operator\n",
    "a={1,2,5,4,\"hello\"}\n",
    "b={5,6,7,8,\"hello\"}\n",
    "c=a-b\n",
    "d=a.difference(b)\n",
    "\n",
    "print(c)\n",
    "print(d)\n",
    "\n",
    "c=b-a\n",
    "d=b.difference(a)\n",
    "print(c)\n",
    "print(d)\n",
    "\n",
    "a={3,4,5,6}\n",
    "b={4,5,8,7}\n",
    "\n",
    "b.difference_update(a)\n",
    "print(b)\n"
   ]
  },
  {
   "cell_type": "code",
   "execution_count": 24,
   "metadata": {},
   "outputs": [
    {
     "name": "stdout",
     "output_type": "stream",
     "text": [
      "{1, 2, 4, 6, 7, 8}\n",
      "{1, 2, 4, 6, 7, 8}\n"
     ]
    }
   ],
   "source": [
    "#symmetric_difference()   ^  operator\n",
    "\n",
    "a={1,2,5,4,\"hello\"}\n",
    "b={5,6,7,8,\"hello\"}\n",
    "\n",
    "c=a^b\n",
    "d=a.symmetric_difference(b)\n",
    "\n",
    "print(c)\n",
    "print(d)\n"
   ]
  },
  {
   "cell_type": "code",
   "execution_count": 22,
   "metadata": {
    "scrolled": true
   },
   "outputs": [
    {
     "name": "stdout",
     "output_type": "stream",
     "text": [
      "{'a', 'o', 'i'}\n",
      "B:  {'m'}\n"
     ]
    }
   ],
   "source": [
    "#difference_update() \n",
    "\n",
    "a={'a','e','i','o','u'}\n",
    "b={'e','m','u'}\n",
    "\n",
    "r1=a.difference(b)\n",
    "print(r1)\n",
    "\n",
    "#a.difference_update(b)\n",
    "#print(\"A: \",a)\n",
    "\n",
    "\n",
    "b.difference_update(a)\n",
    "print(\"B: \",b)\n"
   ]
  },
  {
   "cell_type": "code",
   "execution_count": 1,
   "metadata": {},
   "outputs": [
    {
     "name": "stdout",
     "output_type": "stream",
     "text": [
      "{1, 2, (3, 4)}\n"
     ]
    }
   ],
   "source": [
    "a={1,2,(3,4)}\n",
    "b={(5,6),7,8}\n",
    "a.difference_update(b)\n",
    "print(a)\n"
   ]
  },
  {
   "cell_type": "code",
   "execution_count": null,
   "metadata": {},
   "outputs": [],
   "source": []
  },
  {
   "cell_type": "code",
   "execution_count": 25,
   "metadata": {},
   "outputs": [
    {
     "name": "stdout",
     "output_type": "stream",
     "text": [
      "{'u', 'o', 'e', 'i', 'a'}\n",
      "{'u', 'e', 'o', 'i', 'a'}\n"
     ]
    }
   ],
   "source": [
    "x={'a': 'India', 'o': 'Canada', 'u': 'Singapore', 'e': 'UK', 'i': 'USA'}\n",
    "s=frozenset(x)\n",
    "print(set(s))\n",
    "\n",
    "s=frozenset(tuple(['a','e','i','o','u']))\n",
    "print(set(s))\n",
    "\n",
    "#print(s['a'])"
   ]
  },
  {
   "cell_type": "code",
   "execution_count": 20,
   "metadata": {},
   "outputs": [
    {
     "name": "stdout",
     "output_type": "stream",
     "text": [
      "{1}\n",
      "{1, 34, 3, 6, 8, 86, 60, 30}\n",
      "{1, 34, 3, 86, 60, 30}\n",
      "{3}\n",
      "{3, 6}\n"
     ]
    }
   ],
   "source": [
    "s={\"1\":1,\"2\":3,\"5\":6,\"7\":8}\n",
    "w={\"a\":1,\"e\":30,\"i\":60,\"o\":8}\n",
    "d={\"1\":1,\"20\":34,\"5\":6,\"70\":86}\n",
    "        \n",
    "print( set(s.values())  &  set(w.values()) & set(d.values()))\n",
    "print( set(s.values())  |  set(w.values()) | set(d.values()))\n",
    "print( set(s.values())  ^  set(w.values()) ^ set(d.values()))\n",
    "print( set(s.values())  -  set(w.values()) - set(d.values()))\n",
    "\n",
    "print(set(s.values())  -  set(w.values()))\n",
    "\n"
   ]
  },
  {
   "cell_type": "code",
   "execution_count": 40,
   "metadata": {},
   "outputs": [
    {
     "name": "stdout",
     "output_type": "stream",
     "text": [
      "{1, 3}\n"
     ]
    }
   ],
   "source": [
    "a={1,2,3,4}\n",
    "b={2,4,5,6}\n",
    "c={4,5,6,7}\n",
    "print(a-b-c)"
   ]
  },
  {
   "cell_type": "code",
   "execution_count": null,
   "metadata": {},
   "outputs": [],
   "source": []
  }
 ],
 "metadata": {
  "kernelspec": {
   "display_name": "Python 3",
   "language": "python",
   "name": "python3"
  },
  "language_info": {
   "codemirror_mode": {
    "name": "ipython",
    "version": 3
   },
   "file_extension": ".py",
   "mimetype": "text/x-python",
   "name": "python",
   "nbconvert_exporter": "python",
   "pygments_lexer": "ipython3",
   "version": "3.7.3"
  }
 },
 "nbformat": 4,
 "nbformat_minor": 2
}
