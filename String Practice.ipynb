{
 "cells": [
  {
   "cell_type": "code",
   "execution_count": 11,
   "metadata": {},
   "outputs": [
    {
     "name": "stdout",
     "output_type": "stream",
     "text": [
      "THIS IS A TEST DOCUMENT. PYTHON IS A PROGRAMMING LANGUAGE.\n",
      "True\n",
      "This is a test document. python is a programming language.\n",
      "this\n",
      "True\n",
      "False\n",
      "True\n"
     ]
    }
   ],
   "source": [
    "a=\"this is a test document. Python is a programming language.\"\n",
    "print(a.upper())\n",
    "a=a.lower()\n",
    "print(a.islower())\n",
    "\n",
    "print(a.capitalize())\n",
    "\n",
    "a=\"THIS\"\n",
    "print(a.casefold())\n",
    "\n",
    "a=\"90\"\n",
    "print(a.isdigit())\n",
    "\n",
    "\n",
    "print(a.isalpha())\n",
    "\n",
    "a=\"this\"\n",
    "print(a.isalpha())\n",
    "\n"
   ]
  },
  {
   "cell_type": "code",
   "execution_count": 19,
   "metadata": {},
   "outputs": [
    {
     "name": "stdout",
     "output_type": "stream",
     "text": [
      "False\n",
      "True\n",
      "True\n",
      "True\n"
     ]
    }
   ],
   "source": [
    "a=\"90.9\"\n",
    "print(a.isdecimal())\n",
    "\n",
    "a=\"90\"\n",
    "print(a.isnumeric())\n",
    "print(a.isdigit())\n",
    "\n",
    "print(a.isdecimal())\n",
    "\n",
    "\n"
   ]
  },
  {
   "cell_type": "code",
   "execution_count": 23,
   "metadata": {},
   "outputs": [
    {
     "name": "stdout",
     "output_type": "stream",
     "text": [
      "The count is: 3\n",
      "The count is: 1\n"
     ]
    }
   ],
   "source": [
    "a=\"this is a test document. Python is a programming language.\"\n",
    "\n",
    "\n",
    "substring = \"is\"\n",
    "\n",
    "count = a.count(substring)\n",
    "\n",
    "# print count\n",
    "print(\"The count is:\", count)\n",
    "\n",
    "\n",
    "a=\" That is a Code\"\n",
    "\n",
    "substring = \"is\"\n",
    "\n",
    "count = a.count(substring)\n",
    "\n",
    "# print count\n",
    "print(\"The count is:\", count)\n",
    "\n"
   ]
  },
  {
   "cell_type": "code",
   "execution_count": 24,
   "metadata": {},
   "outputs": [
    {
     "name": "stdout",
     "output_type": "stream",
     "text": [
      "False\n",
      "True\n",
      "True\n"
     ]
    }
   ],
   "source": [
    "text = \"Python is easy to learn.\"\n",
    "\n",
    "result = text.endswith('to learn')\n",
    "print(result)\n",
    "\n",
    "\n",
    "\n",
    "result = text.endswith('to learn.')\n",
    "print(result)\n",
    "\n",
    "\n",
    "\n",
    "result = text.endswith('Python is easy to learn.')\n",
    "print(result)\n"
   ]
  },
  {
   "cell_type": "code",
   "execution_count": 26,
   "metadata": {},
   "outputs": [
    {
     "name": "stdout",
     "output_type": "stream",
     "text": [
      "xyz             12345   abc\n"
     ]
    }
   ],
   "source": [
    "#The expandtabs() method returns a copy of string with all tab characters \n",
    "#'\\t' replaced with whitespace characters until the next multiple of tabsize parameter.\n",
    "\n",
    "str = 'xyz\\t\\t12345\\tabc'\n",
    "\n",
    "# no argument is passed\n",
    "# default tabsize is 8\n",
    "result = str.expandtabs()\n",
    "\n",
    "print(result)\n",
    "\n"
   ]
  },
  {
   "cell_type": "code",
   "execution_count": 27,
   "metadata": {},
   "outputs": [
    {
     "name": "stdout",
     "output_type": "stream",
     "text": [
      "The string is: pythön!\n",
      "The encoded version is: b'pyth\\xc3\\xb6n!'\n"
     ]
    }
   ],
   "source": [
    "# unicode string\n",
    "string = 'pythön!'\n",
    "\n",
    "# print string\n",
    "print('The string is:', string)\n",
    "\n",
    "# default encoding to utf-8\n",
    "string_utf = string.encode()\n",
    "\n",
    "# print result\n",
    "print('The encoded version is:', string_utf)"
   ]
  },
  {
   "cell_type": "code",
   "execution_count": 34,
   "metadata": {},
   "outputs": [
    {
     "name": "stdout",
     "output_type": "stream",
     "text": [
      "Substring 'let it': 10\n",
      "Substring 'small ': -1\n",
      "Contains substring 'be,'\n"
     ]
    }
   ],
   "source": [
    "#The find() method returns the index of first occurrence of the substring (if found). If not found, it returns -1.\n",
    "\n",
    "a = 'Let it be,let it be,let it be'\n",
    "\n",
    "r = a.find('let it')\n",
    "print(\"Substring 'let it':\", r)\n",
    "\n",
    "r = a.find('small')\n",
    "print(\"Substring 'small ':\", r)\n",
    "\n",
    "# How to use find()\n",
    "\n",
    "\n",
    "if  (a.find('be,') != -1):\n",
    "    print(\"Contains substring 'be,'\")\n",
    "else:\n",
    "    print(\"Doesn't contain substring\")"
   ]
  },
  {
   "cell_type": "code",
   "execution_count": 42,
   "metadata": {},
   "outputs": [
    {
     "name": "stdout",
     "output_type": "stream",
     "text": [
      "3\n",
      "18\n",
      "6\n",
      "20\n",
      "13\n"
     ]
    }
   ],
   "source": [
    "#The index() method returns the index of a substring inside the string (if found). \n",
    "#If the substring is not found, it raises an exception.\n",
    "\n",
    "a=\"concatenate\"\n",
    "r = a.index('cat')\n",
    "print(r)\n",
    "\n",
    "#r=a.index(\"mat\")\n",
    "#print(r)\n",
    "\n",
    "s = 'Pythoning programming is fun.'\n",
    "\n",
    "print(s.index('ing', 10))\n",
    "print(s.index('ing'))\n",
    "print(s.index('g is', 10, -4))\n",
    "print(s.index('gram', 7, 18))\n"
   ]
  },
  {
   "cell_type": "code",
   "execution_count": 43,
   "metadata": {},
   "outputs": [
    {
     "name": "stdout",
     "output_type": "stream",
     "text": [
      "this should all be lowercase.\n",
      "THIS SHOULD ALL BE UPPERCASE.\n",
      "tHiS sHoUlD bE mIxEd CaSeD.\n"
     ]
    }
   ],
   "source": [
    "string = \"THIS SHOULD ALL BE LOWERCASE.\"\n",
    "print(string.swapcase())\n",
    "\n",
    "string = \"this should all be uppercase.\"\n",
    "print(string.swapcase())\n",
    "\n",
    "string = \"ThIs ShOuLd Be MiXeD cAsEd.\"\n",
    "print(string.swapcase())"
   ]
  },
  {
   "cell_type": "code",
   "execution_count": 50,
   "metadata": {},
   "outputs": [
    {
     "name": "stdout",
     "output_type": "stream",
     "text": [
      "1, 2, 3, 4\n",
      "p$ r$ o$ g$ r$ a$ m\n",
      "dtest otest ctest utest mtest etest ntest t\n",
      "tdocumentedocumentsdocumenttdocument \n",
      "Ruby->->Python->->Java\n"
     ]
    }
   ],
   "source": [
    "#The join() is a string method which returns a string concatenated with the elements of an iterable.\n",
    "\n",
    "\n",
    "numList = ['1', '2', '3', '4']\n",
    "s = ', '\n",
    "print(s.join(numList))\n",
    "\n",
    "a=\"program\"\n",
    "s='$ '\n",
    "print(s.join(a))\n",
    "\n",
    "a=\"test \"\n",
    "b=\"document\"\n",
    "c=a.join(b)\n",
    "d=b.join(a)\n",
    "print(c)\n",
    "print(d)\n",
    "\n",
    "\n",
    "test = {'Python', 'Java', 'Ruby'}\n",
    "s = '->->'\n",
    "print(s.join(test))\n",
    "\n",
    "\n"
   ]
  },
  {
   "cell_type": "code",
   "execution_count": 53,
   "metadata": {},
   "outputs": [
    {
     "name": "stdout",
     "output_type": "stream",
     "text": [
      "cat  \n",
      "  cat\n"
     ]
    }
   ],
   "source": [
    "#The string ljust() method returns a left-justified string of a given minimum width.\n",
    "#The string rjust() method returns a right-justified string of a given minimum width.\n",
    "\n",
    "string = 'cat'\n",
    "\n",
    "\n",
    "# print left justified string\n",
    "print(string.ljust(5))\n",
    "\n",
    "# example string\n",
    "string = 'cat'\n",
    "\n",
    "# print right justified string\n",
    "print(string.rjust(5))\n",
    "\n",
    "\n"
   ]
  },
  {
   "cell_type": "code",
   "execution_count": 62,
   "metadata": {},
   "outputs": [
    {
     "name": "stdout",
     "output_type": "stream",
     "text": [
      "program    gram   ming   language\n",
      "   program    gram   ming   language   \n",
      "am    gram   ming   language   \n",
      "droid is awesome\n",
      "program    gram   ming   language   \n",
      "   program    gram   ming   language\n"
     ]
    }
   ],
   "source": [
    "#The strip() method returns a copy of the string with both leading and trailing\n",
    "#characters removed (based on the string argument passed).\n",
    "\n",
    "\n",
    "\n",
    "\n",
    "\n",
    "\n",
    "\n",
    "\n",
    "\n",
    "\n",
    "\n",
    "string = '   program    gram   ming   language   '\n",
    "\n",
    "# Leading whitepsace are removed\n",
    "print(string.strip())\n",
    "\n",
    "print(string.strip('gram'))\n",
    "\n",
    "\n",
    "\n",
    "# Argument doesn't contain space\n",
    "# No characters are removed.\n",
    "\n",
    "\n",
    "string = 'program    gram   ming   language   '\n",
    "print(string.strip('prog'))\n",
    "\n",
    "string = 'android is awesome'\n",
    "print(string.strip('an'))\n",
    "\n",
    "string = '   program    gram   ming   language   '\n",
    "print(string.lstrip())\n",
    "\n",
    "\n",
    "string = '   program    gram   ming   language   '\n",
    "print(string.rstrip())\n",
    "\n"
   ]
  },
  {
   "cell_type": "code",
   "execution_count": 68,
   "metadata": {},
   "outputs": [
    {
     "name": "stdout",
     "output_type": "stream",
     "text": [
      "('Python ', 'is ', 'fun')\n",
      "('Python is fun', '', '')\n",
      "('Python ', 'is', \" fun, isn't it\")\n",
      "('Python is ', 'fun', \", isn't it\")\n"
     ]
    }
   ],
   "source": [
    "#The partition() method splits the string at the first occurrence of the argument string and returns a tuple containing the part the before separator, \n",
    "#argument string and the part after the separator.\n",
    "\n",
    "\n",
    "\n",
    "string = \"Python is fun\"\n",
    "\n",
    "# 'is' separator is found\n",
    "print(string.partition('is '))\n",
    "\n",
    "# 'not' separator is not found\n",
    "print(string.partition('not '))\n",
    "\n",
    "string = \"Python is fun, isn't it\"\n",
    "\n",
    "# splits at first occurence of 'is'\n",
    "print(string.partition('is'))\n",
    "print(string.rpartition('fun'))\n",
    "\n"
   ]
  },
  {
   "cell_type": "markdown",
   "metadata": {},
   "source": [
    "# default arguments\n",
    "print(\"Hello {}, your balance is {}.\".format(\"Pooja\",90.2346))\n",
    "print(\"Hello {}\".format(\"Friends\"))\n",
    "\n",
    "\n",
    "# positional arguments\n",
    "print(\"Hello {0}, your balance is {1}.\".format(\"Adam\", 230.2346))\n",
    "\n",
    "# keyword arguments\n",
    "print(\"Hello {name}{name}, your balance is {balance}.\".format(name=\"Adam\", balance=230.2346))\n",
    "\n",
    "# mixed arguments\n",
    "print(\"Hello {0}, your balance is {blc}.\".format(\"Adam\", blc=230.2346))\n",
    "\n",
    "\n",
    "# integer arguments\n",
    "print(\"The number is:{:d}\".format(123))\n",
    "\n",
    "\n",
    "# float arguments\n",
    "print(\"The float number is:{:f}\".format(123.4567898))\n",
    "\n",
    "# float arguments\n",
    "print(\"The float number is:{:f}\".format(123.4567898))\n"
   ]
  },
  {
   "cell_type": "code",
   "execution_count": 79,
   "metadata": {},
   "outputs": [
    {
     "name": "stdout",
     "output_type": "stream",
     "text": [
      "The float number is:123.456790\n",
      "The float number is:123.457\n"
     ]
    }
   ],
   "source": [
    "print(\"The float number is:{:f}\".format(123.4567898))\n",
    "print(\"The float number is:{:.3f}\".format(123.4567898))"
   ]
  },
  {
   "cell_type": "code",
   "execution_count": 80,
   "metadata": {},
   "outputs": [
    {
     "name": "stdout",
     "output_type": "stream",
     "text": [
      "bin: 1100, oct: 14, hex: c\n"
     ]
    }
   ],
   "source": [
    "# octal, binary and hexadecimal format\n",
    "print(\"bin: {0:b}, oct: {0:o}, hex: {0:x}\".format(12))"
   ]
  },
  {
   "cell_type": "code",
   "execution_count": 83,
   "metadata": {},
   "outputs": [
    {
     "name": "stdout",
     "output_type": "stream",
     "text": [
      "+12.230000 -12.230000\n",
      "12.230000 -12.230000\n",
      "12.230000 -12.230000\n"
     ]
    }
   ],
   "source": [
    "\n",
    "# show the + sign\n",
    "print(\"{:+f} {:+f}\".format(12.23, -12.23))\n",
    "\n",
    "# show the - sign only\n",
    "print(\"{:-f} {:-f}\".format(12.23, -12.23))\n",
    "\n",
    "# show space for + sign\n",
    "print(\"{:f} {:f}\".format(12.23, -12.23))"
   ]
  },
  {
   "cell_type": "code",
   "execution_count": null,
   "metadata": {},
   "outputs": [],
   "source": []
  }
 ],
 "metadata": {
  "kernelspec": {
   "display_name": "Python 3",
   "language": "python",
   "name": "python3"
  },
  "language_info": {
   "codemirror_mode": {
    "name": "ipython",
    "version": 3
   },
   "file_extension": ".py",
   "mimetype": "text/x-python",
   "name": "python",
   "nbconvert_exporter": "python",
   "pygments_lexer": "ipython3",
   "version": "3.6.4"
  }
 },
 "nbformat": 4,
 "nbformat_minor": 2
}
