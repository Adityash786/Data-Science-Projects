{
 "cells": [
  {
   "cell_type": "code",
   "execution_count": 10,
   "metadata": {},
   "outputs": [
    {
     "name": "stdout",
     "output_type": "stream",
     "text": [
      "<class 'dict'>\n",
      "<class 'dict'>\n",
      "{1: 10}\n",
      "(1, 2, 3, 4, 5)\n",
      "('a', 'e', 'i', 'o', 'u')\n",
      "5\n",
      "{1: 'a', 2: 'e', 3: 'i', 4: 'o', 5: 'u'}\n"
     ]
    }
   ],
   "source": [
    "D={}\n",
    "D1=dict()\n",
    "print(type(D))\n",
    "print(type(D1))\n",
    "\n",
    "P={}\n",
    "P.setdefault(1,10)\n",
    "print(P)\n",
    "\n",
    "Q={\"a\":1,\"e\":2,\"i\":3,\"o\":4,\"u\":5}\n",
    "\n",
    "p=tuple(Q.values())\n",
    "print(p)\n",
    "\n",
    "m=tuple(Q.keys())\n",
    "print(m)\n",
    "\n",
    "L=len(m)\n",
    "print(L)\n",
    "\n",
    "S={}\n",
    "for i in range(0,5):\n",
    "    S.setdefault(p[i],m[i])\n",
    "    \n",
    "print(S)\n"
   ]
  },
  {
   "cell_type": "code",
   "execution_count": 21,
   "metadata": {},
   "outputs": [
    {
     "name": "stdout",
     "output_type": "stream",
     "text": [
      "{}\n",
      "{2: 'e', 3: 'i', 4: 'o', 5: 'u'}\n",
      "{2: 'e', 3: 'i', 4: 'o'}\n",
      "{2: 'e', 4: 'o'}\n"
     ]
    }
   ],
   "source": [
    "S={1: 'a', 2: 'e', 3: 'i', 4: 'o', 5: 'u'}\n",
    "S.clear()\n",
    "print(S)\n",
    "\n",
    "S={1: 'a', 2: 'e', 3: 'i', 4: 'o', 5: 'u'}\n",
    "S.pop(1)\n",
    "print(S)\n",
    "S.popitem()\n",
    "print(S)\n",
    "\n",
    "del(S[3])\n",
    "print(S)\n",
    "\n",
    "#del S\n",
    "#print(S)"
   ]
  },
  {
   "cell_type": "code",
   "execution_count": 36,
   "metadata": {},
   "outputs": [
    {
     "name": "stdout",
     "output_type": "stream",
     "text": [
      "{(1, 2, 3, 4): ('xx', 'ee', 'aa', 'pp')}\n",
      "{1: ['xx', 'zz'], 2: ['xx', 'zz'], 3: ['xx', 'zz'], 4: ['xx', 'zz']}\n",
      "{'n': 'xxxx', 'a': 'xxxx', 'm': 'xxxx', 'e': 'xxxx'}\n"
     ]
    }
   ],
   "source": [
    "D={30:89}\n",
    "S={}\n",
    "#S.setdefault(9,100)\n",
    "S.setdefault((1,2,3,4),(\"xx\",\"ee\",\"aa\",\"pp\"))\n",
    "print(S)\n",
    "M=D.fromkeys([1,2,3,4],[\"xx\",\"zz\"])\n",
    "print(M)\n",
    "M=D.fromkeys(\"name\",\"xxxx\")\n",
    "print(M)\n"
   ]
  },
  {
   "cell_type": "code",
   "execution_count": 41,
   "metadata": {},
   "outputs": [
    {
     "name": "stdout",
     "output_type": "stream",
     "text": [
      "{1: 'a', 2: 'e', 3: 'i', 4: 'o', 5: 'u'}\n",
      "o\n"
     ]
    }
   ],
   "source": [
    "S={1: 'a', 2: 'e', 3: 'i', 4: 'o', 5: 'u'}\n",
    "M=S.copy()\n",
    "print(M)\n",
    "\n",
    "p=S.get(4)\n",
    "print(p)\n"
   ]
  },
  {
   "cell_type": "code",
   "execution_count": 42,
   "metadata": {},
   "outputs": [
    {
     "name": "stdout",
     "output_type": "stream",
     "text": [
      "1 a\n",
      "2 e\n",
      "3 i\n",
      "4 o\n",
      "5 u\n"
     ]
    }
   ],
   "source": [
    "S={1: 'a', 2: 'e', 3: 'i', 4: 'o', 5: 'u'}\n",
    "for i,j in S.items():\n",
    "    print(i,j)\n"
   ]
  },
  {
   "cell_type": "code",
   "execution_count": 65,
   "metadata": {},
   "outputs": [
    {
     "name": "stdout",
     "output_type": "stream",
     "text": [
      "{1: 'a', 2: 'e', 3: 'i', 4: 'o', 5: 'u', 6: 67}\n"
     ]
    }
   ],
   "source": [
    "S={1: 'a', 2: 'e', 3: 'i', 4: 'o', 5: 'u'}\n",
    "M={6:67}\n",
    "S.update(M)\n",
    "print(S)"
   ]
  },
  {
   "cell_type": "code",
   "execution_count": 64,
   "metadata": {},
   "outputs": [
    {
     "name": "stdout",
     "output_type": "stream",
     "text": [
      "50\n",
      "70\n",
      "60\n",
      "45\n"
     ]
    }
   ],
   "source": [
    "A=({\"country\":\"usa\",\"population\":\"50\"},\n",
    "   {\"country\":\"india\",\"population\":\"70\"},\n",
    "   {\"country\":\"uk\",\"population\":\"60\"},\n",
    "   {\"country\":\"canada\",\"population\":\"45\"})\n",
    "\n",
    "#print(A[1])\n",
    "\n",
    "for i in A:\n",
    "    #m=i.values()\n",
    "    #p=tuple(m)\n",
    "    #print(p[0])    \n",
    "    print(tuple(i.values())[1])\n"
   ]
  },
  {
   "cell_type": "code",
   "execution_count": null,
   "metadata": {},
   "outputs": [],
   "source": []
  }
 ],
 "metadata": {
  "kernelspec": {
   "display_name": "Python 3",
   "language": "python",
   "name": "python3"
  },
  "language_info": {
   "codemirror_mode": {
    "name": "ipython",
    "version": 3
   },
   "file_extension": ".py",
   "mimetype": "text/x-python",
   "name": "python",
   "nbconvert_exporter": "python",
   "pygments_lexer": "ipython3",
   "version": "3.7.3"
  }
 },
 "nbformat": 4,
 "nbformat_minor": 2
}
