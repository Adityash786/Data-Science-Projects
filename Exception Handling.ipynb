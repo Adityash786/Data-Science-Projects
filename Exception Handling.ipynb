{
 "cells": [
  {
   "cell_type": "code",
   "execution_count": 7,
   "metadata": {},
   "outputs": [
    {
     "name": "stdout",
     "output_type": "stream",
     "text": [
      "Enter a number 1 : 80\n",
      "Enter a number 2 : 9\n",
      "would br exception in List z\n",
      "Exception Msg is :  list index out of range\n"
     ]
    }
   ],
   "source": [
    "a=int(input(\"Enter a number 1 : \"))\n",
    "b=int(input(\"Enter a number 2 : \")) \n",
    "z=[8,9]\n",
    "\n",
    "try:\n",
    "    try:\n",
    "        c=a/b\n",
    "        print(z[10])\n",
    "        print(c)\n",
    "    finally:\n",
    "        print(\"would br exception in List z\")       \n",
    "except Exception as e:\n",
    "    print(\"Exception Msg is : \",e)\n",
    "else:\n",
    "    print(\"Successfully Done !\")\n"
   ]
  },
  {
   "cell_type": "code",
   "execution_count": 9,
   "metadata": {},
   "outputs": [
    {
     "name": "stdout",
     "output_type": "stream",
     "text": [
      "Enter a number 1 : 90\n",
      "Enter a number 2 : 0\n",
      "Child Exception Msg is :  division by zero\n"
     ]
    }
   ],
   "source": [
    "a=int(input(\"Enter a number 1 : \"))\n",
    "b=int(input(\"Enter a number 2 : \")) \n",
    "z=[8,9]\n",
    "\n",
    "try:   \n",
    "    c=a/b\n",
    "    print(z[10])\n",
    "    print(c)\n",
    "    \n",
    "except ArithmeticError as e:\n",
    "    print(\"Child Exception Msg is : \",e)\n",
    "    \n",
    "except Exception as e:\n",
    "    print(\"Base Exception Msg is : \",e)\n",
    "    \n",
    "else:\n",
    "    print(\"Successfully Done !\")"
   ]
  },
  {
   "cell_type": "code",
   "execution_count": 12,
   "metadata": {},
   "outputs": [
    {
     "name": "stdout",
     "output_type": "stream",
     "text": [
      "Base Exception :  9\n"
     ]
    }
   ],
   "source": [
    "def fun(z):\n",
    "    if(z<10):\n",
    "        raise Exception(z)\n",
    "    return z\n",
    "\n",
    "\n",
    "try:\n",
    "    m=fun(9)\n",
    "    print(\"M = \",m)\n",
    "except Exception as e:\n",
    "    print(\"Base Exception : \",e)"
   ]
  },
  {
   "cell_type": "code",
   "execution_count": null,
   "metadata": {},
   "outputs": [],
   "source": []
  }
 ],
 "metadata": {
  "kernelspec": {
   "display_name": "Python 3",
   "language": "python",
   "name": "python3"
  },
  "language_info": {
   "codemirror_mode": {
    "name": "ipython",
    "version": 3
   },
   "file_extension": ".py",
   "mimetype": "text/x-python",
   "name": "python",
   "nbconvert_exporter": "python",
   "pygments_lexer": "ipython3",
   "version": "3.7.3"
  }
 },
 "nbformat": 4,
 "nbformat_minor": 2
}
