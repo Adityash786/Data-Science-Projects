{
 "cells": [
  {
   "cell_type": "code",
   "execution_count": 40,
   "metadata": {},
   "outputs": [
    {
     "name": "stdout",
     "output_type": "stream",
     "text": [
      "Name :  Program\n",
      "Program\n",
      "call a function\n",
      "90\n",
      "<__main__.Test object at 0x00000000057A9D68>\n"
     ]
    }
   ],
   "source": [
    "class Test:\n",
    "           \n",
    "    def __init__(self): \n",
    "        print(\"default const\")\n",
    "    \n",
    "    def __init__(self,n): \n",
    "        self.name = n   #instance variable\n",
    "        print(\"Name : \",self.name)\n",
    "        \n",
    "        \n",
    "    def call(self,a):\n",
    "        self.age=a\n",
    "        print(self.name)\n",
    "        print(\"call a function\")\n",
    "        \n",
    "    def AGEA(self):\n",
    "        print(self.age)\n",
    "\n",
    "obj = Test(\"Program\")\n",
    "obj.call(90)\n",
    "obj.AGEA()\n",
    "print(obj)\n",
    "\n",
    "\n"
   ]
  },
  {
   "cell_type": "code",
   "execution_count": 28,
   "metadata": {},
   "outputs": [
    {
     "name": "stdout",
     "output_type": "stream",
     "text": [
      "default const\n",
      "stream:  csc\n",
      "instance val:  3\n",
      "instance val:  6\n",
      "Demo val:  2\n"
     ]
    }
   ],
   "source": [
    "class DEMO:\n",
    "    val=2\n",
    "    stream='csc'\n",
    "    def __init__(self):         \n",
    "        print(\"default const\")\n",
    "    \n",
    "    def cal(self):\n",
    "        self.val+=1\n",
    "\n",
    "obj = DEMO()\n",
    "print(\"stream: \", DEMO.stream)\n",
    "obj.cal()\n",
    "print(\"instance val: \",obj.val)\n",
    "obj.cal()\n",
    "obj.cal()\n",
    "obj.cal()\n",
    "print(\"instance val: \",obj.val)\n",
    "print(\"Demo val: \",DEMO.val)\n",
    "#print(\"val: \",val)\n",
    "\n",
    "\n",
    " "
   ]
  },
  {
   "cell_type": "code",
   "execution_count": 33,
   "metadata": {},
   "outputs": [
    {
     "name": "stdout",
     "output_type": "stream",
     "text": [
      "2\n",
      "7\n",
      "7\n",
      "7\n"
     ]
    }
   ],
   "source": [
    "class MyClass: \n",
    "    __h=0            \n",
    "    def add(self, m): \n",
    "        self.__h = self.__h + m \n",
    "        print (self.__h) \n",
    "    def display(self):\n",
    "        print(self.__h)\n",
    "   \n",
    " \n",
    "obj = MyClass()      \n",
    "obj.add(2) \n",
    "obj.add(5) \n",
    "obj.display()\n",
    "\n",
    "print(obj._MyClass__h) #We can access the value of hidden attribute outside \n",
    "# by using class reference name with underscore mark\n",
    "\n",
    "#print (obj.__h) # error  ; not get accessed directly outside\n",
    "#print (MyClass.__h)"
   ]
  },
  {
   "cell_type": "code",
   "execution_count": 41,
   "metadata": {},
   "outputs": [],
   "source": [
    "class VAR: \n",
    "                \n",
    "    def add(self,m): \n",
    "        self.__h = m \n",
    "        print (self.__h) \n",
    "    def display(self):\n",
    "        print(self.__h)\n",
    "        \n",
    "obj = VAR()\n",
    "#print(obj._VAR__h)\n",
    "#print(obj.self__h)\n",
    "#print(obj.__h)\n"
   ]
  },
  {
   "cell_type": "code",
   "execution_count": 46,
   "metadata": {},
   "outputs": [
    {
     "name": "stdout",
     "output_type": "stream",
     "text": [
      "default msg of a class . value is a: 1234\n"
     ]
    }
   ],
   "source": [
    "class Test(object):\n",
    "    \n",
    "    def __init__(self, x): \n",
    "        self.a = x\n",
    "        \n",
    "  \n",
    "    def __repr__(self): \n",
    "        return \"default msg of a class . value is a: %s\" % (self.a) \n",
    "\n",
    "t = Test(1234) \n",
    "print(t) \n"
   ]
  },
  {
   "cell_type": "code",
   "execution_count": null,
   "metadata": {},
   "outputs": [],
   "source": []
  }
 ],
 "metadata": {
  "kernelspec": {
   "display_name": "Python 3",
   "language": "python",
   "name": "python3"
  },
  "language_info": {
   "codemirror_mode": {
    "name": "ipython",
    "version": 3
   },
   "file_extension": ".py",
   "mimetype": "text/x-python",
   "name": "python",
   "nbconvert_exporter": "python",
   "pygments_lexer": "ipython3",
   "version": "3.7.3"
  }
 },
 "nbformat": 4,
 "nbformat_minor": 2
}
