{
 "cells": [
  {
   "cell_type": "code",
   "execution_count": 2,
   "metadata": {},
   "outputs": [
    {
     "name": "stdout",
     "output_type": "stream",
     "text": [
      "20\n"
     ]
    }
   ],
   "source": [
    "d = lambda i:i*2\n",
    "print(d(10))\n",
    "\n",
    "\n"
   ]
  },
  {
   "cell_type": "code",
   "execution_count": 34,
   "metadata": {},
   "outputs": [
    {
     "name": "stdout",
     "output_type": "stream",
     "text": [
      "True\n",
      "[1, 2, 3, 4, 5]\n",
      "30\n"
     ]
    }
   ],
   "source": [
    "d= lambda m: 3 in m\n",
    "g=[1,2,3,4,5]\n",
    "print(d(g))\n",
    "\n",
    "#s=lambda m:for i in m   ----  invalid\n",
    "\n",
    "\n",
    "\n",
    "s = lambda m:[i for i in m]\n",
    "print(s(g))\n",
    "\n",
    "sum_no = lambda a,b,c,d:a+b+c+d\n",
    "print(sum_no(9,8,7,6))\n",
    "\n"
   ]
  },
  {
   "cell_type": "raw",
   "metadata": {},
   "source": [
    "d =({\"cityname\":\"delhi\",\"population\":\"50lakh\"},{\"cityname\":\"agra\",\"population\":\"20lakh\"},{\"cityname\":\"aligarh\",\"population\":\"10lakh\"})\n",
    "\n",
    "for i in d:\n",
    "    m=tuple(i.values())\n",
    "    print(m[0])\n",
    "    \n",
    "    \n",
    "print(end=\"\\n\\n\")\n",
    "\n",
    "s=[tuple(i.values())[0] for i in d]\n",
    "print(s)\n",
    "\n",
    "print(end=\"\\n\\n\")\n",
    "\n",
    "\n",
    "fun = lambda z:[tuple(i.values())[0] for i in z]\n",
    "\n",
    "print(fun(d))"
   ]
  },
  {
   "cell_type": "code",
   "execution_count": 4,
   "metadata": {},
   "outputs": [
    {
     "name": "stdout",
     "output_type": "stream",
     "text": [
      "[97, 101, 105, 111, 117]\n",
      "['h', 'u', 'm', 'a', 'n']\n",
      "['H', 'U', 'M', 'A', 'N']\n"
     ]
    }
   ],
   "source": [
    "#map()  --  applied on each element of a sequence\n",
    "\n",
    "m=['a','e','i','o','u']\n",
    "out = list(map(lambda z:ord(z),m))\n",
    "print(out)\n",
    "\n",
    "\n",
    "out = list(map(lambda z:chr(ord(z)+32) ,\"HUMAN\"))\n",
    "print(out)\n",
    "\n",
    "\n",
    "\n"
   ]
  },
  {
   "cell_type": "code",
   "execution_count": 3,
   "metadata": {},
   "outputs": [
    {
     "name": "stdout",
     "output_type": "stream",
     "text": [
      "['delhi', 'agra', 'aligarh']\n"
     ]
    }
   ],
   "source": [
    "#map on dictionary\n",
    "d =({\"cityname\":\"delhi\",\"population\":\"50lakh\"},{\"cityname\":\"agra\",\"population\":\"20lakh\"},{\"cityname\":\"aligarh\",\"population\":\"10lakh\"})\n",
    "\n",
    "city_value=list(map(lambda z:tuple(z.values())[0] ,d))\n",
    "print(city_value)\n",
    "\n",
    "\n",
    "\n"
   ]
  },
  {
   "cell_type": "code",
   "execution_count": 11,
   "metadata": {},
   "outputs": [
    {
     "name": "stdout",
     "output_type": "stream",
     "text": [
      "8\n",
      "9\n",
      "[]\n"
     ]
    }
   ],
   "source": [
    "#filter () -- filter the condition in lambda function\n",
    "\n",
    "print(list(filter(lambda z:print(z) , [8,9])))\n"
   ]
  },
  {
   "cell_type": "code",
   "execution_count": 12,
   "metadata": {},
   "outputs": [
    {
     "name": "stdout",
     "output_type": "stream",
     "text": [
      "[8, 10, 12, 14]\n"
     ]
    }
   ],
   "source": [
    "print(list(filter(lambda z:z%2==0, [8,9,10,11,12,13,14,15])))"
   ]
  },
  {
   "cell_type": "code",
   "execution_count": 2,
   "metadata": {},
   "outputs": [
    {
     "name": "stdout",
     "output_type": "stream",
     "text": [
      "[1, 2, 3, 4, 5, 6, 7, 8, 9]\n",
      "[1, 2, 3, 4, 5, 6, 7, 8, 9]\n",
      "['h', 'u', 'm', 'a', 'n']\n"
     ]
    }
   ],
   "source": [
    "a=[1,2,3,4,5,6,7,8,9,10,11,12,13,14,15,16,17,18,19,20]\n",
    "s=range(10)\n",
    "\n",
    "z=[I for I in s if I in a]\n",
    "print(z)\n",
    "\n",
    "\n",
    "\n",
    "print(list(filter(lambda z:z in s, a)))\n",
    "\n",
    "\n",
    "\n",
    "out = list(filter(lambda z:chr(ord(z)-32) ,\"human\"))\n",
    "print(out)\n"
   ]
  },
  {
   "cell_type": "code",
   "execution_count": 6,
   "metadata": {},
   "outputs": [
    {
     "name": "stdout",
     "output_type": "stream",
     "text": [
      "55\n",
      "900\n"
     ]
    }
   ],
   "source": [
    "#reduce() - works like fibbonicc series --  taking 2 values , subsequently resultant with will operated using third value \n",
    "# and so on\n",
    "from functools import reduce\n",
    "\n",
    "L =  [1,2,3,4,5,6,7,8,9,10]\n",
    "print(reduce(lambda z,x:z+x ,L))\n",
    "\n",
    "L = [78,900,56,45]\n",
    "\n",
    "\n",
    "#largest value from a list using reduce()\n",
    "print(reduce(lambda z,x:z if z > x else x,L))\n",
    "\n"
   ]
  },
  {
   "cell_type": "code",
   "execution_count": 51,
   "metadata": {},
   "outputs": [
    {
     "name": "stdout",
     "output_type": "stream",
     "text": [
      "34587  ,  173.8\n",
      "98762  ,  294.0\n",
      "77226  ,  108.85000000000001\n",
      "88112  ,  84.97\n",
      "('34587', '98762', '77226', '88112')\n",
      "(163.8, 284.0, 98.85000000000001, 74.97)\n"
     ]
    }
   ],
   "source": [
    "#\n",
    "#Order Number\tBook Title and Author\tQuantity\tPrice per Item\n",
    "#34587\tLearning Python, Mark Lutz\t4\t40.95\n",
    "#98762\tProgramming Python, Mark Lutz\t5\t56.80\n",
    "#77226\tHead First Python, Paul Barry\t3\t32.95\n",
    "#88112\tEinführung in Python3, Bernd Klein\t3\t24.99\n",
    "\n",
    "d=({'order_number':'34587','booktitl_and_author':'learning_python Mark_lutz','quantity':4,'price_per_item':40.95},\n",
    "{'order_number':'98762','booktitl_and_author':'programming_python Mark_lutz','quantity':5,'price_per_item':56.80},\n",
    "{'order_number':'77226','booktitl_and_author':'headfirst_python Paul_barry','quantity':3,'price_per_item':32.95},\n",
    "{'order_number':'88112','booktitl_and_author':'Einführung in_python3 Bernd_Klein','quantity':3,'price_per_item':24.99})\n",
    "\n",
    "for i in d:\n",
    "    m=tuple(i.values())\n",
    "    \n",
    "    order=m[0]\n",
    "    product = m[2]*m[3]\n",
    "    \n",
    "    if product<10000:\n",
    "        product=product+10\n",
    "        \n",
    "    print(order+\"  ,  \"+str(product))\n",
    "    \n",
    "   \n",
    "    \n",
    "output=tuple(map(lambda z:tuple(z.values())[0] ,d))\n",
    "product_output=tuple(map(lambda p:tuple(p.values())[2]*tuple(p.values())[3],d))\n",
    "\n",
    "print(output)\n",
    "print(product_output)\n",
    "\n",
    "\n",
    "\n"
   ]
  },
  {
   "cell_type": "code",
   "execution_count": null,
   "metadata": {},
   "outputs": [],
   "source": []
  }
 ],
 "metadata": {
  "kernelspec": {
   "display_name": "Python 3",
   "language": "python",
   "name": "python3"
  },
  "language_info": {
   "codemirror_mode": {
    "name": "ipython",
    "version": 3
   },
   "file_extension": ".py",
   "mimetype": "text/x-python",
   "name": "python",
   "nbconvert_exporter": "python",
   "pygments_lexer": "ipython3",
   "version": "3.7.3"
  }
 },
 "nbformat": 4,
 "nbformat_minor": 2
}
