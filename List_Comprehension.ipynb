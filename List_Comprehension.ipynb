{
 "cells": [
  {
   "cell_type": "code",
   "execution_count": 7,
   "metadata": {},
   "outputs": [
    {
     "name": "stdout",
     "output_type": "stream",
     "text": [
      "['H', 'U', 'M', 'A', 'N']\n"
     ]
    }
   ],
   "source": [
    "p=[X for X in \"HUMAN\"]\n",
    "print(p)"
   ]
  },
  {
   "cell_type": "code",
   "execution_count": 19,
   "metadata": {},
   "outputs": [
    {
     "name": "stdout",
     "output_type": "stream",
     "text": [
      "{'a': 1, 'b': 2, 'c': 3, 'd': 4}\n",
      "<zip object at 0x060C9300>\n",
      "<class 'zip'>\n",
      "(('a', 1), ('b', 2), ('c', 3), ('d', 4))\n",
      "[('a', 1), ('b', 2), ('c', 3), ('d', 4)]\n"
     ]
    }
   ],
   "source": [
    "a=dict(zip(('a','b','c','d'),(1,2,3,4)))\n",
    "print(a)\n",
    "\n",
    "b=zip(('a','b','c','d'),(1,2,3,4))\n",
    "print(b)\n",
    "print(type(b))\n",
    "\n",
    "a=tuple(zip(('a','b','c','d'),(1,2,3,4)))\n",
    "print(a)\n",
    "\n",
    "a=list(zip(('a','b','c','d'),(1,2,3,4)))\n",
    "print(a)"
   ]
  },
  {
   "cell_type": "code",
   "execution_count": 24,
   "metadata": {},
   "outputs": [
    {
     "name": "stdout",
     "output_type": "stream",
     "text": [
      "{'a': 1, 'b': 2, 'c': 3, 'd': 4}\n",
      "[0, 1, 2, 3, 4, 5, 6, 7, 8, 9]\n",
      "[]\n",
      "[('a', 1), ('b', 2), ('c', 3), ('d', 4)]\n",
      "[]\n",
      "[1, 2, 3, 4, 5, 6, 7, 8, 9]\n"
     ]
    }
   ],
   "source": [
    "a=dict(zip(('a','b','c','d'),(1,2,3,4)))\n",
    "print(a)\n",
    "##############################\n",
    "s=range(10)\n",
    "\n",
    "z=[I for I in s]\n",
    "print(z)\n",
    "\n",
    "z=[I for I in s if I in a]\n",
    "print(z)\n",
    "\n",
    "#################################\n",
    "\n",
    "a=list(zip(('a','b','c','d'),(1,2,3,4)))\n",
    "print(a)\n",
    "\n",
    "z=[I for I in s if I in a]\n",
    "print(z)\n",
    "\n",
    "###################################\n",
    "\n",
    "a=[1,2,3,4,5,6,7,8,9,10,11,12,13,14,15,16,17,18,19,20]\n",
    "z=[I for I in s if I in a]\n",
    "print(z)\n",
    "\n",
    "####################################\n",
    "\n",
    "\n",
    "\n",
    "\n"
   ]
  },
  {
   "cell_type": "code",
   "execution_count": 29,
   "metadata": {},
   "outputs": [
    {
     "name": "stdout",
     "output_type": "stream",
     "text": [
      "{'a': 4, 'b': 2, 'c': 3, 'd': 1}\n",
      "[1, 2, 3, 4]\n",
      "[4, 3, 2, 1]\n"
     ]
    }
   ],
   "source": [
    "a=dict(zip(('a','b','c','d'),(4,2,3,1)))\n",
    "print(a)\n",
    "\n",
    "z=[I for I in s if I in a.values()]\n",
    "print(sorted(z))\n",
    "print(sorted(z,reverse=True))"
   ]
  },
  {
   "cell_type": "code",
   "execution_count": 32,
   "metadata": {},
   "outputs": [
    {
     "name": "stdout",
     "output_type": "stream",
     "text": [
      "a\n",
      "b\n",
      "c\n",
      "d\n",
      "[1, 2, 3, 4]\n",
      "[1, 2, 3, 4]\n"
     ]
    }
   ],
   "source": [
    "s={'a': 4, 'b': 2, 'c': 3, 'd': 1}\n",
    "for a in s:\n",
    "    print(a)\n",
    "\n",
    "    \n",
    "p=sorted([s[i] for i in s])\n",
    "print(p)\n",
    "\n",
    "m=range(10)\n",
    "\n",
    "z=[i for i in m if i in p]\n",
    "print(z)\n",
    "\n"
   ]
  },
  {
   "cell_type": "code",
   "execution_count": 35,
   "metadata": {},
   "outputs": [
    {
     "name": "stdout",
     "output_type": "stream",
     "text": [
      "[0, 1, 4, 9, 16, 25, 36, 49, 64, 81]\n"
     ]
    }
   ],
   "source": [
    "z=[i*i for i in range(10)]\n",
    "print(z)"
   ]
  },
  {
   "cell_type": "code",
   "execution_count": 36,
   "metadata": {},
   "outputs": [
    {
     "name": "stdout",
     "output_type": "stream",
     "text": [
      "[[0, 0], [1, 1], [2, 4], [3, 9], [4, 16], [5, 25], [6, 36], [7, 49], [8, 64], [9, 81]]\n"
     ]
    }
   ],
   "source": [
    "z=[[i,i*i] for i in range(10)]\n",
    "print(z)"
   ]
  },
  {
   "cell_type": "code",
   "execution_count": 37,
   "metadata": {},
   "outputs": [
    {
     "name": "stdout",
     "output_type": "stream",
     "text": [
      "Python,is,a,good,language.\n"
     ]
    }
   ],
   "source": [
    "A=\"Python is  a good language.\"\n",
    "print(\",\".join([i for i in A.split()]))"
   ]
  },
  {
   "cell_type": "code",
   "execution_count": 4,
   "metadata": {},
   "outputs": [
    {
     "name": "stdout",
     "output_type": "stream",
     "text": [
      "<class 'tuple'>\n",
      "india\n",
      "uk\n",
      "usa\n",
      "canada\n"
     ]
    },
    {
     "data": {
      "text/plain": [
       "[tuple, tuple, tuple, tuple]"
      ]
     },
     "execution_count": 4,
     "metadata": {},
     "output_type": "execute_result"
    }
   ],
   "source": [
    "#print all country names only\n",
    "d=({\"country\":\"india\",\"population\":89},{\"country\":\"uk\",\"population\":56},{\"country\":\"usa\",\"population\":45},{\"country\":\"canada\",\"population\":34})\n",
    "print(type(d))\n",
    "for i in d:\n",
    "    m=tuple(i.values())   \n",
    "    print(m[0])\n",
    "    \n",
    "\n",
    "[tuple(i.values())[0] for i in d]\n"
   ]
  },
  {
   "cell_type": "code",
   "execution_count": 12,
   "metadata": {},
   "outputs": [
    {
     "name": "stdout",
     "output_type": "stream",
     "text": [
      "1\n",
      "2\n",
      "3\n",
      "4\n",
      "5\n"
     ]
    },
    {
     "data": {
      "text/plain": [
       "[1, 2, 3, 4, 5]"
      ]
     },
     "execution_count": 12,
     "metadata": {},
     "output_type": "execute_result"
    }
   ],
   "source": [
    "L =[1,2,3,4,5]\n",
    "for i in L:\n",
    "    print(i)\n",
    "\n",
    "\n",
    "#List Comprehension [returnvalue   forloop     condition]\n",
    "\n",
    "[i for i in L]\n"
   ]
  },
  {
   "cell_type": "code",
   "execution_count": 13,
   "metadata": {},
   "outputs": [
    {
     "name": "stdout",
     "output_type": "stream",
     "text": [
      "H\n",
      "U\n",
      "M\n",
      "A\n",
      "N\n"
     ]
    },
    {
     "data": {
      "text/plain": [
       "[None, None, None, None, None]"
      ]
     },
     "execution_count": 13,
     "metadata": {},
     "output_type": "execute_result"
    }
   ],
   "source": [
    "[print(c) for c in \"HUMAN\"]"
   ]
  },
  {
   "cell_type": "code",
   "execution_count": 14,
   "metadata": {},
   "outputs": [
    {
     "data": {
      "text/plain": [
       "[2, 4, 6, 8, 10, 12, 14, 16, 18, 20]"
      ]
     },
     "execution_count": 14,
     "metadata": {},
     "output_type": "execute_result"
    }
   ],
   "source": [
    "[i for i in range(1,21) if i%2==0]"
   ]
  },
  {
   "cell_type": "code",
   "execution_count": 21,
   "metadata": {},
   "outputs": [
    {
     "data": {
      "text/plain": [
       "[(5, 10), (3, 6)]"
      ]
     },
     "execution_count": 21,
     "metadata": {},
     "output_type": "execute_result"
    }
   ],
   "source": [
    "L1 = [1,2,3,4,5]\n",
    "L2 = [3,5,6,8,9]\n",
    "\n",
    "sorted([(i,i*2) for i in L1 if i in L2],reverse=True)\n"
   ]
  },
  {
   "cell_type": "code",
   "execution_count": null,
   "metadata": {},
   "outputs": [],
   "source": []
  }
 ],
 "metadata": {
  "kernelspec": {
   "display_name": "Python 3",
   "language": "python",
   "name": "python3"
  },
  "language_info": {
   "codemirror_mode": {
    "name": "ipython",
    "version": 3
   },
   "file_extension": ".py",
   "mimetype": "text/x-python",
   "name": "python",
   "nbconvert_exporter": "python",
   "pygments_lexer": "ipython3",
   "version": "3.7.3"
  }
 },
 "nbformat": 4,
 "nbformat_minor": 2
}
